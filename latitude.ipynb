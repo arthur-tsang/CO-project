{
 "cells": [
  {
   "cell_type": "markdown",
   "metadata": {},
   "source": [
    "# Galactic latitude test\n",
    "*26 Feb 2020*\n",
    "\n",
    "Vary $b$ for fixed $\\ell = 32.65$."
   ]
  },
  {
   "cell_type": "code",
   "execution_count": 1,
   "metadata": {},
   "outputs": [],
   "source": [
    "import numpy as np\n",
    "import matplotlib.pyplot as plt\n",
    "from scipy.optimize  import curve_fit"
   ]
  },
  {
   "cell_type": "markdown",
   "metadata": {},
   "source": [
    "## Data"
   ]
  },
  {
   "cell_type": "code",
   "execution_count": 2,
   "metadata": {},
   "outputs": [],
   "source": [
    "b_data = [0, .25, .5, .75, 1, 1.25, 1.5, -.25, -.5, -.75, -1, .125, .375, .625, -.125, -.375, -.625, -1.25]\n",
    "wco_data = [48.01, 16.42, 10.1, 8.6, 2.47, 5.2, 4.7, 37.3, 9.42, 2.34, 1.31, 30.82, 9.43, 15.93, 38.38, 22.78, 7.38, -0.86]"
   ]
  },
  {
   "cell_type": "markdown",
   "metadata": {},
   "source": [
    "## Error bars\n",
    "Measurement error:\n",
    "$$W_{CO} = \\int T d\\nu = \\sum T_i \\Delta \\nu$$\n",
    "$$\\sigma_{WCO} = (0.15\\,\\mathrm{K})\\sqrt{\\frac{30\\,\\mathrm{km/s}}{0.65\\,\\mathrm{km/s}}} (0.65\\,\\mathrm{km/s}) = 0.66 \\,\\mathrm{K \\, km/s}$$"
   ]
  },
  {
   "cell_type": "code",
   "execution_count": 18,
   "metadata": {},
   "outputs": [
    {
     "name": "stdout",
     "output_type": "stream",
     "text": [
      "wco_err 0.6623820649745886\n"
     ]
    }
   ],
   "source": [
    "wco_err = 0.15 * np.sqrt(30/.65) * .65\n",
    "wco_errs = [wco_err for _ in b_data]\n",
    "print('wco_err', wco_err)"
   ]
  },
  {
   "cell_type": "markdown",
   "metadata": {},
   "source": [
    "## Quick gaussian fit"
   ]
  },
  {
   "cell_type": "code",
   "execution_count": 20,
   "metadata": {},
   "outputs": [],
   "source": [
    "def gaussian(x, mean, sigma, norm):\n",
    "    return norm * np.exp(-(x-mean)**2/(2*sigma**2))"
   ]
  },
  {
   "cell_type": "code",
   "execution_count": 21,
   "metadata": {},
   "outputs": [],
   "source": [
    "popt_gauss, pcov_gauss = curve_fit(gaussian, b_data, wco_data, p0=[0, .2, 50], maxfev=10000) #, sigma=[3]*len(b_data))"
   ]
  },
  {
   "cell_type": "code",
   "execution_count": 31,
   "metadata": {},
   "outputs": [
    {
     "data": {
      "text/plain": [
       "Text(0, 0.5, 'W_CO (K km/s)')"
      ]
     },
     "execution_count": 31,
     "metadata": {},
     "output_type": "execute_result"
    },
    {
     "data": {
      "image/png": "[encoded data removed]",
      "text/plain": [
       "<Figure size 432x288 with 1 Axes>"
      ]
     },
     "metadata": {
      "needs_background": "light"
     },
     "output_type": "display_data"
    }
   ],
   "source": [
    "plt.errorbar(b_data, wco_data, wco_errs, fmt='o', markersize=1)\n",
    "xs = np.linspace(-2,2)\n",
    "ys = gaussian(xs, *popt_gauss)\n",
    "plt.plot(xs, ys)\n",
    "plt.xlabel('b (degrees)')\n",
    "plt.ylabel('W_CO (K km/s)')"
   ]
  },
  {
   "cell_type": "code",
   "execution_count": 32,
   "metadata": {},
   "outputs": [
    {
     "data": {
      "text/plain": [
       "array([-0.07096154,  0.27820271, 42.62602721])"
      ]
     },
     "execution_count": 32,
     "metadata": {},
     "output_type": "execute_result"
    }
   ],
   "source": [
    "popt_gauss"
   ]
  },
  {
   "cell_type": "markdown",
   "metadata": {},
   "source": [
    "## Quick double gaussian fit\n",
    "\n",
    "Relevant paper: [link here](http://articles.adsabs.harvard.edu/pdf/1994ApJ...436L.173D)"
   ]
  },
  {
   "cell_type": "code",
   "execution_count": 33,
   "metadata": {},
   "outputs": [],
   "source": [
    "def double_gaussian(x, mean, sigma, norm, mean2, sigma2, norm2):\n",
    "    return norm * np.exp(-(x-mean)**2/(2*sigma**2)) + norm2 * np.exp(-(x-mean2)**2/(2*sigma2**2))"
   ]
  },
  {
   "cell_type": "code",
   "execution_count": 34,
   "metadata": {},
   "outputs": [],
   "source": [
    "popt_gauss2, pcov_gauss2 = curve_fit(double_gaussian,\n",
    "                                     b_data, wco_data, p0=[0, .2, 50, .2, .8, 10], maxfev=10000) #, sigma=[3]*len(b_data))"
   ]
  },
  {
   "cell_type": "code",
   "execution_count": 39,
   "metadata": {},
   "outputs": [
    {
     "data": {
      "image/png": "[encoded data removed]",
      "text/plain": [
       "<Figure size 432x288 with 1 Axes>"
      ]
     },
     "metadata": {
      "needs_background": "light"
     },
     "output_type": "display_data"
    }
   ],
   "source": [
    "plt.errorbar(b_data, wco_data, wco_errs, fmt='o', markersize=1, label='Data')\n",
    "xs = np.linspace(-2,2)\n",
    "ys2 = double_gaussian(xs, *popt_gauss2)\n",
    "plt.plot(xs, ys2, label='Double gaussian fit')\n",
    "plt.xlabel('b (degrees)')\n",
    "plt.ylabel('W_CO (K km/s)')\n",
    "plt.legend()\n",
    "#plt.savefig('imgs/double_gaussian.png')"
   ]
  },
  {
   "cell_type": "code",
   "execution_count": 37,
   "metadata": {},
   "outputs": [
    {
     "data": {
      "text/plain": [
       "array([-0.09681686,  0.20888485, 37.56430858,  0.38489606,  0.73162962,\n",
       "        9.76525117])"
      ]
     },
     "execution_count": 37,
     "metadata": {},
     "output_type": "execute_result"
    }
   ],
   "source": [
    "popt_gauss2"
   ]
  },
  {
   "cell_type": "markdown",
   "metadata": {},
   "source": [
    "## Quick scratch work"
   ]
  },
  {
   "cell_type": "code",
   "execution_count": 166,
   "metadata": {},
   "outputs": [
    {
     "data": {
      "text/plain": [
       "0.48645"
      ]
     },
     "execution_count": 166,
     "metadata": {},
     "output_type": "execute_result"
    }
   ],
   "source": [
    "2.35*.207"
   ]
  },
  {
   "cell_type": "code",
   "execution_count": 167,
   "metadata": {},
   "outputs": [
    {
     "data": {
      "text/plain": [
       "4.64160535283137"
      ]
     },
     "execution_count": 167,
     "metadata": {},
     "output_type": "execute_result"
    }
   ],
   "source": [
    "0.71680301 * 2.35  * 2.7555007253259096"
   ]
  },
  {
   "cell_type": "code",
   "execution_count": 168,
   "metadata": {},
   "outputs": [
    {
     "data": {
      "text/plain": [
       "2.7555007253259096"
      ]
     },
     "execution_count": 168,
     "metadata": {},
     "output_type": "execute_result"
    }
   ],
   "source": [
    "8.34 * np.cos(32.65)"
   ]
  },
  {
   "cell_type": "markdown",
   "metadata": {},
   "source": [
    "## Miscellaneous notes\n",
    "    \n",
    "- Plan for 15 minute lecture Mar 13\n",
    "- Go over practice talk ahead of time!! (Really coordinate to be done ahead of time, at least a day or two)\n",
    "- Papers due after we get back from break"
   ]
  },
  {
   "cell_type": "code",
   "execution_count": null,
   "metadata": {},
   "outputs": [],
   "source": []
  }
 ],
 "metadata": {
  "kernelspec": {
   "display_name": "Python 3",
   "language": "python",
   "name": "python3"
  },
  "language_info": {
   "codemirror_mode": {
    "name": "ipython",
    "version": 3
   },
   "file_extension": ".py",
   "mimetype": "text/x-python",
   "name": "python",
   "nbconvert_exporter": "python",
   "pygments_lexer": "ipython3",
   "version": "3.5.3"
  }
 },
 "nbformat": 4,
 "nbformat_minor": 4
}
